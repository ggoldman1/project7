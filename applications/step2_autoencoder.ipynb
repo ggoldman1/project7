{
 "cells": [
  {
   "cell_type": "code",
   "execution_count": 1,
   "id": "44e0cdb3",
   "metadata": {},
   "outputs": [],
   "source": [
    "from nn import NeuralNetwork\n",
    "import numpy as np\n",
    "from sklearn.datasets import load_digits\n",
    "import matplotlib.pyplot as plt"
   ]
  },
  {
   "cell_type": "markdown",
   "id": "2d8a12eb",
   "metadata": {},
   "source": [
    "## Load in data, make training (80%) and validation (20%) sets"
   ]
  },
  {
   "cell_type": "code",
   "execution_count": 2,
   "id": "b586aa8e",
   "metadata": {},
   "outputs": [],
   "source": [
    "data = load_digits()[\"data\"]\n",
    "n = data.shape[0]\n",
    "train_rows = int(0.8*n) # 80% train, 20% validation"
   ]
  },
  {
   "cell_type": "code",
   "execution_count": 3,
   "id": "39c63a99",
   "metadata": {},
   "outputs": [],
   "source": [
    "np.random.shuffle(data)\n",
    "X_train, X_val = data[0:train_rows, :], data[train_rows:n, :]"
   ]
  },
  {
   "cell_type": "markdown",
   "id": "f046e897",
   "metadata": {},
   "source": [
    "## Train autoencoder, searching over grid of hyperparameters"
   ]
  },
  {
   "cell_type": "code",
   "execution_count": 47,
   "id": "d7c40aee",
   "metadata": {},
   "outputs": [],
   "source": [
    "epochs = [10, 20, 30, 40, 50]\n",
    "lrs = [10, 1, 0.1, 0.01, 0.001]\n",
    "batch_sizes = [100, 200, 300, 400, 500]\n",
    "activations = [\"relu\", \"sigmoid\"]\n",
    "val_loss = np.zeros((len(epochs), len(lrs), len(batch_sizes), len(activations))) # validation loss as a function of the hyperparameters"
   ]
  },
  {
   "cell_type": "code",
   "execution_count": 48,
   "id": "1de019ba",
   "metadata": {},
   "outputs": [],
   "source": [
    "for e, epoch in enumerate(epochs):\n",
    "    for l, lr in enumerate(lrs):\n",
    "        for b, batch_size in enumerate(batch_sizes):\n",
    "            for a, activation in enumerate(activations):\n",
    "                \n",
    "                net = NeuralNetwork([{'input_dim': 64, 'output_dim': 16, 'activation': activation},\n",
    "                                     {'input_dim': 16, 'output_dim': 64, 'activation': activation}],\n",
    "                                    lr, 42, batch_size, epoch, \"mse\")\n",
    "                \n",
    "                # this is a reconstruction task, so the data and the target are the same \n",
    "                net.fit(X_train, X_train, X_val, X_val)\n",
    "                # get validation loss\n",
    "                val_loss[e, l, b, a] = net._mean_squared_error(X_val, net.predict(X_val))"
   ]
  },
  {
   "cell_type": "code",
   "execution_count": 49,
   "id": "d4808866",
   "metadata": {},
   "outputs": [
    {
     "name": "stdout",
     "output_type": "stream",
     "text": [
      "Selected hyperparameters: epochs: 50, learning rate: 0.1, batch_size: 100, activation: sigmoid\n"
     ]
    }
   ],
   "source": [
    "# get one set of best hyperparameters (potentially could be more than one)\n",
    "min_val_loss_idxs = np.where(val_loss == np.min(val_loss))\n",
    "one_min_idx = [x[0] for x in min_val_loss_idxs]\n",
    "epoch, lr, batch_size, activation = epochs[one_min_idx[0]], lrs[one_min_idx[1]], batch_sizes[one_min_idx[2]], activations[one_min_idx[3]]\n",
    "print(f\"Selected hyperparameters: epochs: {epoch}, learning rate: {lr}, batch_size: {batch_size}, activation: {activation}\")"
   ]
  },
  {
   "cell_type": "markdown",
   "id": "282b8119",
   "metadata": {},
   "source": [
    "## Explanation of Hyperparameters"
   ]
  },
  {
   "cell_type": "markdown",
   "id": "83a1f4f1",
   "metadata": {},
   "source": [
    "### I selected my hyperparameters by searching over a large space of potential hyperparameter combinations. I trained a new model on each distinct combination and kept track of the loss validation at the end of training. Then, I selected the combination of hyperparameters that minimized the validation loss. \n",
    "\n",
    "- Epochs: number of passes through the data\n",
    "- Learning rate: how far of a \"step\" to move the weights and bias in the direction of the gradient\n",
    "- Batch size: how large of a subset of the data to estimate the gradient with\n",
    "- Activation: nonlinear activation on each neuron"
   ]
  },
  {
   "cell_type": "markdown",
   "id": "3bace3f4",
   "metadata": {},
   "source": [
    "## Now, run the model with the best performing hyperparameters"
   ]
  },
  {
   "cell_type": "code",
   "execution_count": 53,
   "id": "47d8182f",
   "metadata": {},
   "outputs": [],
   "source": [
    "net = NeuralNetwork([{'input_dim': 64, 'output_dim': 16, 'activation': \"sigmoid\"},\n",
    "                     {'input_dim': 16, 'output_dim': 64, 'activation': \"sigmoid\"}],\n",
    "                    lr, 42, batch_size, epoch, \"mse\")\n",
    "train_loss, val_loss = net.fit(X_train, X_train, X_val, X_val)"
   ]
  },
  {
   "cell_type": "code",
   "execution_count": 54,
   "id": "4a1c3884",
   "metadata": {},
   "outputs": [
    {
     "data": {
      "text/plain": [
       "<matplotlib.legend.Legend at 0x1219f0b70>"
      ]
     },
     "execution_count": 54,
     "metadata": {},
     "output_type": "execute_result"
    },
    {
     "data": {
      "image/png": "[encoded data removed]",
      "text/plain": [
       "<Figure size 432x288 with 1 Axes>"
      ]
     },
     "metadata": {
      "needs_background": "light"
     },
     "output_type": "display_data"
    }
   ],
   "source": [
    "epochs = [x for x in range(len(train_loss))]\n",
    "plt.plot(epochs, val_loss, label=\"val loss\")\n",
    "plt.plot(epochs, train_loss, label=\"train loss\")\n",
    "plt.ylabel(\"MSE\")\n",
    "plt.xlabel(\"Epoch\")\n",
    "plt.legend()"
   ]
  },
  {
   "cell_type": "markdown",
   "id": "6dd9b685",
   "metadata": {},
   "source": [
    "## Quantify validation loss"
   ]
  },
  {
   "cell_type": "code",
   "execution_count": 56,
   "id": "c0a2a800",
   "metadata": {},
   "outputs": [
    {
     "data": {
      "text/plain": [
       "55.69395777471818"
      ]
     },
     "execution_count": 56,
     "metadata": {},
     "output_type": "execute_result"
    }
   ],
   "source": [
    "val_loss[-1]"
   ]
  },
  {
   "cell_type": "markdown",
   "id": "112bf133",
   "metadata": {},
   "source": [
    "### The validation loss is relatively high for this task. This may be because the latent space dimensionality (16) is too small to accurately reconstruct the data, or perhaps the model needs more than one hidden later for reconstruction."
   ]
  }
 ],
 "metadata": {
  "kernelspec": {
   "display_name": "Python 3 (ipykernel)",
   "language": "python",
   "name": "python3"
  },
  "language_info": {
   "codemirror_mode": {
    "name": "ipython",
    "version": 3
   },
   "file_extension": ".py",
   "mimetype": "text/x-python",
   "name": "python",
   "nbconvert_exporter": "python",
   "pygments_lexer": "ipython3",
   "version": "3.7.2"
  }
 },
 "nbformat": 4,
 "nbformat_minor": 5
}
