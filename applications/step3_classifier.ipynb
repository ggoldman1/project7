{
 "cells": [
  {
   "cell_type": "code",
   "execution_count": 19,
   "id": "c5da7d62",
   "metadata": {},
   "outputs": [],
   "source": [
    "import nn\n",
    "import numpy as np\n",
    "import matplotlib.pyplot as plt"
   ]
  },
  {
   "cell_type": "markdown",
   "id": "4e6ede4d",
   "metadata": {},
   "source": [
    "## Load in data split negatives up into same length subsequences as positive examples"
   ]
  },
  {
   "cell_type": "code",
   "execution_count": 2,
   "id": "90dcac5d",
   "metadata": {},
   "outputs": [],
   "source": [
    "positive_examples = open('../data/rap1-lieb-positives.txt').read().split(\"\\n\")\n",
    "negative_examples = nn.preprocess.read_fasta('../data/yeast-upstream-1k-negative.fa')"
   ]
  },
  {
   "cell_type": "code",
   "execution_count": 3,
   "id": "44fa4a3d",
   "metadata": {},
   "outputs": [],
   "source": [
    "positive_length = len(positive_examples[0])\n",
    "neg_subseqs = []\n",
    "\n",
    "for neg in negative_examples:\n",
    "    stop_seq = len(neg) - positive_length\n",
    "    neg_subseqs += [neg[x:x+positive_length] for x in range(0, stop_seq, positive_length)]"
   ]
  },
  {
   "cell_type": "markdown",
   "id": "0d221df4",
   "metadata": {},
   "source": [
    "## Sampling"
   ]
  },
  {
   "cell_type": "markdown",
   "id": "2b892c76",
   "metadata": {},
   "source": [
    "### Sampling scheme summary: flip a coin between positive example and negative example. Choose a positive (or negative) data point at random conditional on the coin toss. "
   ]
  },
  {
   "cell_type": "code",
   "execution_count": 4,
   "id": "4d979405",
   "metadata": {},
   "outputs": [],
   "source": [
    "seqs = positive_examples + neg_subseqs\n",
    "labels = [1 for _ in range(len(positive_examples))] + [0 for _ in range(len(neg_subseqs))]"
   ]
  },
  {
   "cell_type": "code",
   "execution_count": 5,
   "id": "1f03e024",
   "metadata": {},
   "outputs": [],
   "source": [
    "seqs, labels = nn.preprocess.sample_seqs(seqs, labels)\n",
    "encoded_seqs = nn.preprocess.one_hot_encode_seqs(seqs)"
   ]
  },
  {
   "cell_type": "markdown",
   "id": "274afd6e",
   "metadata": {},
   "source": [
    "## Generate training (80%) and validation (20%). Note that the sampling procedure already randomly shuffled the data"
   ]
  },
  {
   "cell_type": "code",
   "execution_count": 6,
   "id": "b9b88dbf",
   "metadata": {},
   "outputs": [],
   "source": [
    "n = len(seqs)\n",
    "train_rows = int(n*0.8)"
   ]
  },
  {
   "cell_type": "code",
   "execution_count": 7,
   "id": "f87da5a9",
   "metadata": {},
   "outputs": [],
   "source": [
    "X_train, y_train = np.array(encoded_seqs[0:train_rows]), np.array(labels[0:train_rows])\n",
    "X_val, y_val = np.array(encoded_seqs[train_rows:n]), np.array(labels[train_rows:n])"
   ]
  },
  {
   "cell_type": "markdown",
   "id": "13a7ecb5",
   "metadata": {},
   "source": [
    "## Select hyperparameters"
   ]
  },
  {
   "cell_type": "markdown",
   "id": "3a72cd52",
   "metadata": {},
   "source": [
    "### The loss function should be binary cross entropy because the outcome is binary -- either it is a positive example or a negative example"
   ]
  },
  {
   "cell_type": "code",
   "execution_count": 8,
   "id": "556ad467",
   "metadata": {},
   "outputs": [],
   "source": [
    "epochs = [10, 20, 30, 40, 50]\n",
    "lrs = [10, 1, 0.1, 0.01, 0.001]\n",
    "batch_sizes = [5, 10, 20, 30]\n",
    "activations = [\"sigmoid\"]\n",
    "val_loss = np.zeros((len(epochs), len(lrs), len(batch_sizes), len(activations))) # validation loss as a function of the hyperparameters"
   ]
  },
  {
   "cell_type": "code",
   "execution_count": 9,
   "id": "47401b5f",
   "metadata": {},
   "outputs": [],
   "source": [
    "for e, epoch in enumerate(epochs):\n",
    "    for l, lr in enumerate(lrs):\n",
    "        for b, batch_size in enumerate(batch_sizes):\n",
    "            for a, activation in enumerate(activations):\n",
    "                \n",
    "                net = nn.NeuralNetwork([{'input_dim': 68, 'output_dim': 34, 'activation': activation},\n",
    "                                        {'input_dim': 34, 'output_dim': 17, 'activation': activation},\n",
    "                                        {\"input_dim\": 17, 'output_dim': 1, 'activation': \"sigmoid\"}],\n",
    "                                    lr, 42, batch_size, epoch, \"bce\")\n",
    "                \n",
    "                # this is a reconstruction task, so the data and the target are the same \n",
    "                net.fit(X_train, y_train.reshape(len(y_train), 1), X_val, y_val.reshape(len(y_val), 1))\n",
    "                # get validation loss\n",
    "                val_loss[e, l, b, a] = net._mean_squared_error(X_val, net.predict(X_val))"
   ]
  },
  {
   "cell_type": "code",
   "execution_count": 10,
   "id": "58f5ebf0",
   "metadata": {},
   "outputs": [
    {
     "name": "stdout",
     "output_type": "stream",
     "text": [
      "Selected hyperparameters: epochs: 40, learning rate: 10, batch_size: 30, activation: sigmoid\n"
     ]
    }
   ],
   "source": [
    "# get one set of best hyperparameters (potentially could be more than one)\n",
    "min_val_loss_idxs = np.where(val_loss == np.min(val_loss))\n",
    "one_min_idx = [x[0] for x in min_val_loss_idxs]\n",
    "epoch, lr, batch_size, activation = epochs[one_min_idx[0]], lrs[one_min_idx[1]], batch_sizes[one_min_idx[2]], activations[one_min_idx[3]]\n",
    "print(f\"Selected hyperparameters: epochs: {epoch}, learning rate: {lr}, batch_size: {batch_size}, activation: {activation}\")"
   ]
  },
  {
   "cell_type": "markdown",
   "id": "8b557074",
   "metadata": {},
   "source": [
    "## Explanation of Hyperparameters"
   ]
  },
  {
   "cell_type": "markdown",
   "id": "17c6be79",
   "metadata": {},
   "source": [
    "### I selected my hyperparameters by searching over a large space of potential hyperparameter combinations. I trained a new model on each distinct combination and kept track of the loss validation at the end of training. Then, I selected the combination of hyperparameters that minimized the validation loss. \n",
    "\n",
    "- Epochs: number of passes through the data\n",
    "- Learning rate: how far of a \"step\" to move the weights and bias in the direction of the gradient\n",
    "- Batch size: how large of a subset of the data to estimate the gradient with\n",
    "- Activation: nonlinear activation on each neuron"
   ]
  },
  {
   "cell_type": "markdown",
   "id": "6c2e8e2c",
   "metadata": {},
   "source": [
    "## Now train on best performing hyperparameters "
   ]
  },
  {
   "cell_type": "code",
   "execution_count": 12,
   "id": "729405de",
   "metadata": {},
   "outputs": [],
   "source": [
    "net = nn.NeuralNetwork([{'input_dim': 68, 'output_dim': 34, 'activation': activation},\n",
    "                                        {'input_dim': 34, 'output_dim': 17, 'activation': activation},\n",
    "                                        {\"input_dim\": 17, 'output_dim': 1, 'activation': \"sigmoid\"}],\n",
    "                                    lr, 42, batch_size, epoch, \"bce\")\n",
    "loss_train, loss_val = net.fit(X_train, y_train.reshape(len(y_train), 1), X_val, y_val.reshape(len(y_val), 1))"
   ]
  },
  {
   "cell_type": "code",
   "execution_count": 22,
   "id": "b3e8fb25",
   "metadata": {},
   "outputs": [
    {
     "data": {
      "text/plain": [
       "<matplotlib.legend.Legend at 0x119a88898>"
      ]
     },
     "execution_count": 22,
     "metadata": {},
     "output_type": "execute_result"
    },
    {
     "data": {
      "image/png": "[encoded data removed]",
      "text/plain": [
       "<Figure size 432x288 with 1 Axes>"
      ]
     },
     "metadata": {
      "needs_background": "light"
     },
     "output_type": "display_data"
    }
   ],
   "source": [
    "epochs = [x/batch_size for x in range(len(loss_train))]\n",
    "plt.plot(epochs, loss_train, label=\"val loss\")\n",
    "plt.plot(epochs, loss_val, label=\"train loss\")\n",
    "plt.ylabel(\"BCE\")\n",
    "plt.xlabel(\"Epoch\")\n",
    "plt.legend()"
   ]
  },
  {
   "cell_type": "markdown",
   "id": "e73adf3b",
   "metadata": {},
   "source": [
    "## Get accuracy"
   ]
  },
  {
   "cell_type": "code",
   "execution_count": 40,
   "id": "511fe429",
   "metadata": {},
   "outputs": [
    {
     "name": "stdout",
     "output_type": "stream",
     "text": [
      "0.5636363636363636\n"
     ]
    }
   ],
   "source": [
    "pred = np.round(net.predict(X_val),0) # round to nearest integer\n",
    "accuracy = np.sum(np.where(pred == y_val, 1, 0)[0]) / len(pred)\n",
    "print(accuracy)"
   ]
  }
 ],
 "metadata": {
  "kernelspec": {
   "display_name": "Python 3 (ipykernel)",
   "language": "python",
   "name": "python3"
  },
  "language_info": {
   "codemirror_mode": {
    "name": "ipython",
    "version": 3
   },
   "file_extension": ".py",
   "mimetype": "text/x-python",
   "name": "python",
   "nbconvert_exporter": "python",
   "pygments_lexer": "ipython3",
   "version": "3.9.7"
  }
 },
 "nbformat": 4,
 "nbformat_minor": 5
}
