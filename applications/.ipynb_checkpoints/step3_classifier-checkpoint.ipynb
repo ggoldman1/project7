{
 "cells": [
  {
   "cell_type": "code",
   "execution_count": 1,
   "id": "707b68a7",
   "metadata": {},
   "outputs": [],
   "source": [
    "import nn\n",
    "import numpy as np"
   ]
  },
  {
   "cell_type": "markdown",
   "id": "3b621dac",
   "metadata": {},
   "source": [
    "## Load in data split negatives up into same length subsequences as positive examples"
   ]
  },
  {
   "cell_type": "code",
   "execution_count": 2,
   "id": "d564da81",
   "metadata": {},
   "outputs": [],
   "source": [
    "positive_examples = open('../data/rap1-lieb-positives.txt').read().split(\"\\n\")\n",
    "negative_examples = nn.preprocess.read_fasta('../data/yeast-upstream-1k-negative.fa')"
   ]
  },
  {
   "cell_type": "code",
   "execution_count": 3,
   "id": "65ed8b1d",
   "metadata": {},
   "outputs": [],
   "source": [
    "positive_length = len(positive_examples[0])\n",
    "neg_subseqs = []\n",
    "\n",
    "for neg in negative_examples:\n",
    "    stop_seq = len(neg) - positive_length\n",
    "    neg_subseqs += [neg[x:x+positive_length] for x in range(0, stop_seq, positive_length)]"
   ]
  },
  {
   "cell_type": "markdown",
   "id": "5590c235",
   "metadata": {},
   "source": [
    "## Sampling"
   ]
  },
  {
   "cell_type": "markdown",
   "id": "04d4cce7",
   "metadata": {},
   "source": [
    "### Sampling scheme summary: flip a coin between positive example and negative example. Choose a positive (or negative) data point at random conditional on the coin toss. "
   ]
  },
  {
   "cell_type": "code",
   "execution_count": 4,
   "id": "8b8b30ee",
   "metadata": {},
   "outputs": [],
   "source": [
    "seqs = positive_examples + neg_subseqs\n",
    "labels = [1 for _ in range(len(positive_examples))] + [0 for _ in range(len(neg_subseqs))]"
   ]
  },
  {
   "cell_type": "code",
   "execution_count": 5,
   "id": "95c6da0c",
   "metadata": {},
   "outputs": [],
   "source": [
    "seqs, labels = nn.preprocess.sample_seqs(seqs, labels)\n",
    "encoded_seqs = nn.preprocess.one_hot_encode_seqs(seqs)"
   ]
  },
  {
   "cell_type": "markdown",
   "id": "cca9febf",
   "metadata": {},
   "source": [
    "## Generate training (80%) and validation (20%). Note that the sampling procedure already randomly shuffled the data"
   ]
  },
  {
   "cell_type": "code",
   "execution_count": 6,
   "id": "57c784df",
   "metadata": {},
   "outputs": [],
   "source": [
    "n = len(seqs)\n",
    "train_rows = int(n*0.8)"
   ]
  },
  {
   "cell_type": "code",
   "execution_count": 11,
   "id": "009f16b6",
   "metadata": {},
   "outputs": [],
   "source": [
    "X_train, y_train = np.array(encoded_seqs[0:train_rows]), np.array(labels[0:train_rows])\n",
    "X_val, y_val = np.array(encoded_seqs[train_rows:n]), np.array(labels[train_rows:n])"
   ]
  },
  {
   "cell_type": "markdown",
   "id": "e4ec4bdd",
   "metadata": {},
   "source": [
    "## Select hyperparameters"
   ]
  },
  {
   "cell_type": "code",
   "execution_count": 26,
   "id": "88038937",
   "metadata": {},
   "outputs": [],
   "source": [
    "epochs = [10, 20, 30, 40, 50]\n",
    "lrs = [10, 1, 0.1, 0.01, 0.001]\n",
    "batch_sizes = [5, 10, 20, 30]\n",
    "activations = [\"relu\", \"sigmoid\"]\n",
    "val_loss = np.zeros((len(epochs), len(lrs), len(batch_sizes), len(activations))) # validation loss as a function of the hyperparameters"
   ]
  },
  {
   "cell_type": "code",
   "execution_count": 34,
   "id": "0aa8b5c5",
   "metadata": {},
   "outputs": [
    {
     "data": {
      "text/plain": [
       "(219, 68)"
      ]
     },
     "execution_count": 34,
     "metadata": {},
     "output_type": "execute_result"
    }
   ],
   "source": [
    "X_train.shape"
   ]
  },
  {
   "cell_type": "code",
   "execution_count": 36,
   "id": "6b306700",
   "metadata": {},
   "outputs": [
    {
     "data": {
      "text/plain": [
       "17.0"
      ]
     },
     "execution_count": 36,
     "metadata": {},
     "output_type": "execute_result"
    }
   ],
   "source": [
    "68/4"
   ]
  },
  {
   "cell_type": "code",
   "execution_count": 39,
   "id": "bb1ba8c5",
   "metadata": {},
   "outputs": [
    {
     "ename": "ValueError",
     "evalue": "all the input arrays must have same number of dimensions, but the array at index 0 has 2 dimension(s) and the array at index 1 has 1 dimension(s)",
     "output_type": "error",
     "traceback": [
      "\u001b[0;31m---------------------------------------------------------------------------\u001b[0m",
      "\u001b[0;31mValueError\u001b[0m                                Traceback (most recent call last)",
      "\u001b[0;32m/var/folders/xz/2nqtbjqd2ng0wlxdtvhhl9l40000gq/T/ipykernel_14819/2563503645.py\u001b[0m in \u001b[0;36m<module>\u001b[0;34m\u001b[0m\n\u001b[1;32m     10\u001b[0m \u001b[0;34m\u001b[0m\u001b[0m\n\u001b[1;32m     11\u001b[0m                 \u001b[0;31m# this is a reconstruction task, so the data and the target are the same\u001b[0m\u001b[0;34m\u001b[0m\u001b[0;34m\u001b[0m\u001b[0;34m\u001b[0m\u001b[0m\n\u001b[0;32m---> 12\u001b[0;31m                 \u001b[0mnet\u001b[0m\u001b[0;34m.\u001b[0m\u001b[0mfit\u001b[0m\u001b[0;34m(\u001b[0m\u001b[0mX_train\u001b[0m\u001b[0;34m,\u001b[0m \u001b[0my_train\u001b[0m\u001b[0;34m,\u001b[0m \u001b[0mX_val\u001b[0m\u001b[0;34m,\u001b[0m \u001b[0my_val\u001b[0m\u001b[0;34m)\u001b[0m\u001b[0;34m\u001b[0m\u001b[0;34m\u001b[0m\u001b[0m\n\u001b[0m\u001b[1;32m     13\u001b[0m                 \u001b[0;31m# get validation loss\u001b[0m\u001b[0;34m\u001b[0m\u001b[0;34m\u001b[0m\u001b[0;34m\u001b[0m\u001b[0m\n\u001b[1;32m     14\u001b[0m                 \u001b[0mval_loss\u001b[0m\u001b[0;34m[\u001b[0m\u001b[0me\u001b[0m\u001b[0;34m,\u001b[0m \u001b[0ml\u001b[0m\u001b[0;34m,\u001b[0m \u001b[0mb\u001b[0m\u001b[0;34m,\u001b[0m \u001b[0ma\u001b[0m\u001b[0;34m]\u001b[0m \u001b[0;34m=\u001b[0m \u001b[0mnet\u001b[0m\u001b[0;34m.\u001b[0m\u001b[0m_mean_squared_error\u001b[0m\u001b[0;34m(\u001b[0m\u001b[0mX_val\u001b[0m\u001b[0;34m,\u001b[0m \u001b[0mnet\u001b[0m\u001b[0;34m.\u001b[0m\u001b[0mpredict\u001b[0m\u001b[0;34m(\u001b[0m\u001b[0mX_val\u001b[0m\u001b[0;34m)\u001b[0m\u001b[0;34m)\u001b[0m\u001b[0;34m\u001b[0m\u001b[0;34m\u001b[0m\u001b[0m\n",
      "\u001b[0;32m~/Library/Python/3.7/lib/python/site-packages/nn/nn.py\u001b[0m in \u001b[0;36mfit\u001b[0;34m(self, X_train, y_train, X_val, y_val)\u001b[0m\n\u001b[1;32m    272\u001b[0m \u001b[0;34m\u001b[0m\u001b[0m\n\u001b[1;32m    273\u001b[0m             \u001b[0;31m# shuffle the training data\u001b[0m\u001b[0;34m\u001b[0m\u001b[0;34m\u001b[0m\u001b[0;34m\u001b[0m\u001b[0m\n\u001b[0;32m--> 274\u001b[0;31m             \u001b[0mshuf\u001b[0m \u001b[0;34m=\u001b[0m \u001b[0mnp\u001b[0m\u001b[0;34m.\u001b[0m\u001b[0mconcatenate\u001b[0m\u001b[0;34m(\u001b[0m\u001b[0;34m[\u001b[0m\u001b[0mX_train\u001b[0m\u001b[0;34m,\u001b[0m \u001b[0my_train\u001b[0m\u001b[0;34m]\u001b[0m\u001b[0;34m,\u001b[0m \u001b[0maxis\u001b[0m\u001b[0;34m=\u001b[0m\u001b[0;36m1\u001b[0m\u001b[0;34m)\u001b[0m\u001b[0;34m\u001b[0m\u001b[0;34m\u001b[0m\u001b[0m\n\u001b[0m\u001b[1;32m    275\u001b[0m             \u001b[0mnp\u001b[0m\u001b[0;34m.\u001b[0m\u001b[0mrandom\u001b[0m\u001b[0;34m.\u001b[0m\u001b[0mshuffle\u001b[0m\u001b[0;34m(\u001b[0m\u001b[0mshuf\u001b[0m\u001b[0;34m)\u001b[0m\u001b[0;34m\u001b[0m\u001b[0;34m\u001b[0m\u001b[0m\n\u001b[1;32m    276\u001b[0m             \u001b[0mX_train\u001b[0m \u001b[0;34m=\u001b[0m \u001b[0mshuf\u001b[0m\u001b[0;34m[\u001b[0m\u001b[0;34m:\u001b[0m\u001b[0;34m,\u001b[0m \u001b[0;34m:\u001b[0m\u001b[0;34m-\u001b[0m\u001b[0mtarget_dim\u001b[0m\u001b[0;34m]\u001b[0m\u001b[0;34m\u001b[0m\u001b[0;34m\u001b[0m\u001b[0m\n",
      "\u001b[0;32m<__array_function__ internals>\u001b[0m in \u001b[0;36mconcatenate\u001b[0;34m(*args, **kwargs)\u001b[0m\n",
      "\u001b[0;31mValueError\u001b[0m: all the input arrays must have same number of dimensions, but the array at index 0 has 2 dimension(s) and the array at index 1 has 1 dimension(s)"
     ]
    }
   ],
   "source": [
    "for e, epoch in enumerate(epochs):\n",
    "    for l, lr in enumerate(lrs):\n",
    "        for b, batch_size in enumerate(batch_sizes):\n",
    "            for a, activation in enumerate(activations):\n",
    "                \n",
    "                net = nn.NeuralNetwork([{'input_dim': 68, 'output_dim': 34, 'activation': activation},\n",
    "                                        {'input_dim': 34, 'output_dim': 17, 'activation': activation},\n",
    "                                        {\"input_dim\": 17, 'output_dim': 1, 'activation': \"sigmoid\"}],\n",
    "                                    lr, 42, batch_size, epoch, \"bce\")\n",
    "                \n",
    "                # this is a reconstruction task, so the data and the target are the same \n",
    "                net.fit(X_train, y_train.reshape(len(y_train), 1), X_val, y_val.reshape(len(y_val), 1))\n",
    "                # get validation loss\n",
    "                val_loss[e, l, b, a] = net._mean_squared_error(X_val, net.predict(X_val))"
   ]
  },
  {
   "cell_type": "code",
   "execution_count": 33,
   "id": "f10fec9e",
   "metadata": {},
   "outputs": [
    {
     "data": {
      "text/plain": [
       "[{'input_dim': 64, 'output_dim': 16, 'activation': 'relu'},\n",
       " {'input_dim': 16, 'output_dim': 64, 'activation': 'relu'}]"
      ]
     },
     "execution_count": 33,
     "metadata": {},
     "output_type": "execute_result"
    }
   ],
   "source": [
    "net.arch"
   ]
  },
  {
   "cell_type": "code",
   "execution_count": null,
   "id": "b80fb1f6",
   "metadata": {},
   "outputs": [],
   "source": [
    "# get one set of best hyperparameters (potentially could be more than one)\n",
    "min_val_loss_idxs = np.where(val_loss == np.min(val_loss))\n",
    "one_min_idx = [x[0] for x in min_val_loss_idxs]\n",
    "epoch, lr, batch_size, activation = epochs[one_min_idx[0]], lrs[one_min_idx[1]], batch_sizes[one_min_idx[2]], activations[one_min_idx[3]]\n",
    "print(f\"Selected hyperparameters: epochs: {epoch}, learning rate: {lr}, batch_size: {batch_size}, activation: {activation}\")"
   ]
  }
 ],
 "metadata": {
  "kernelspec": {
   "display_name": "Python 3 (ipykernel)",
   "language": "python",
   "name": "python3"
  },
  "language_info": {
   "codemirror_mode": {
    "name": "ipython",
    "version": 3
   },
   "file_extension": ".py",
   "mimetype": "text/x-python",
   "name": "python",
   "nbconvert_exporter": "python",
   "pygments_lexer": "ipython3",
   "version": "3.7.2"
  }
 },
 "nbformat": 4,
 "nbformat_minor": 5
}
