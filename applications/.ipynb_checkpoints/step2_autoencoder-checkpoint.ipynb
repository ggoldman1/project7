{
 "cells": [
  {
   "cell_type": "code",
   "execution_count": 1,
   "id": "44e0cdb3",
   "metadata": {},
   "outputs": [],
   "source": [
    "from nn import NeuralNetwork\n",
    "import numpy as np\n",
    "from sklearn.datasets import load_digits\n",
    "import matplotlib.pyplot as plt"
   ]
  },
  {
   "cell_type": "markdown",
   "id": "2d8a12eb",
   "metadata": {},
   "source": [
    "## Load in data, make training (80%) and validation (20%) sets"
   ]
  },
  {
   "cell_type": "code",
   "execution_count": 2,
   "id": "b586aa8e",
   "metadata": {},
   "outputs": [],
   "source": [
    "data = load_digits()[\"data\"]\n",
    "n = data.shape[0]\n",
    "train_rows = int(0.8*n) # 80% train, 20% validation"
   ]
  },
  {
   "cell_type": "code",
   "execution_count": 3,
   "id": "39c63a99",
   "metadata": {},
   "outputs": [],
   "source": [
    "np.random.shuffle(data)\n",
    "X_train, X_val = data[0:train_rows, :], data[train_rows:n, :]"
   ]
  },
  {
   "cell_type": "markdown",
   "id": "f046e897",
   "metadata": {},
   "source": [
    "## Train autoencoder, searching over grid of hyperparameters"
   ]
  },
  {
   "cell_type": "code",
   "execution_count": 4,
   "id": "d7c40aee",
   "metadata": {},
   "outputs": [],
   "source": [
    "epochs = [10, 20, 30, 40, 50]\n",
    "lrs = [1, 0.1, 0.01, 0.001]\n",
    "batch_sizes = [10, 20, 30, 40, 50]\n",
    "activations = [\"relu\", \"sigmoid\"]\n",
    "val_loss = np.zeros((len(epochs), len(lrs), len(batch_sizes), len(activations))) # validation loss as a function of the hyperparameters"
   ]
  },
  {
   "cell_type": "code",
   "execution_count": 5,
   "id": "1de019ba",
   "metadata": {},
   "outputs": [
    {
     "name": "stderr",
     "output_type": "stream",
     "text": [
      "/Users/grantgoldman/Library/Python/3.7/lib/python/site-packages/nn/nn.py:361: RuntimeWarning: overflow encountered in exp\n",
      "  return 1/(1+np.exp(Z))\n"
     ]
    }
   ],
   "source": [
    "for e, epoch in enumerate(epochs):\n",
    "    for l, lr in enumerate(lrs):\n",
    "        for b, batch_size in enumerate(batch_sizes):\n",
    "            for a, activation in enumerate(activations):\n",
    "                \n",
    "                net = NeuralNetwork([{'input_dim': 64, 'output_dim': 16, 'activation': activation},\n",
    "                                     {'input_dim': 16, 'output_dim': 64, 'activation': activation}],\n",
    "                                    lr, 42, batch_size, epoch, \"mse\")\n",
    "                \n",
    "                # this is a reconstruction task, so the data and the target are the same \n",
    "                net.fit(X_train, X_train, X_val, X_val)\n",
    "                # get validation loss\n",
    "                val_loss[e, l, b, a] = net._mean_squared_error(X_val, net.predict(X_val))"
   ]
  },
  {
   "cell_type": "code",
   "execution_count": 6,
   "id": "d4808866",
   "metadata": {},
   "outputs": [
    {
     "name": "stdout",
     "output_type": "stream",
     "text": [
      "Selected hyperparameters: epochs: 50, learning rate: 0.1, batch_size: 20, activation: sigmoid\n"
     ]
    }
   ],
   "source": [
    "# get one set of best hyperparameters (potentially could be more than one)\n",
    "min_val_loss_idxs = np.where(val_loss == np.min(val_loss))\n",
    "one_min_idx = [x[0] for x in min_val_loss_idxs]\n",
    "epoch, lr, batch_size, activation = epochs[one_min_idx[0]], lrs[one_min_idx[1]], batch_sizes[one_min_idx[2]], activations[one_min_idx[3]]\n",
    "print(f\"Selected hyperparameters: epochs: {epoch}, learning rate: {lr}, batch_size: {batch_size}, activation: {activation}\")"
   ]
  },
  {
   "cell_type": "markdown",
   "id": "dfc10999",
   "metadata": {},
   "source": [
    "## Now, run the model with the best performing hyperparameters"
   ]
  },
  {
   "cell_type": "code",
   "execution_count": 22,
   "id": "f43b781f",
   "metadata": {},
   "outputs": [],
   "source": [
    "net = NeuralNetwork([{'input_dim': 64, 'output_dim': 16, 'activation': \"sigmoid\"},\n",
    "                     {'input_dim': 16, 'output_dim': 64, 'activation': \"relu\"}],\n",
    "                    lr, 42, batch_size, epoch, \"mse\")\n",
    "train_loss, val_loss = net.fit(X_train, X_train, X_val, X_val)"
   ]
  },
  {
   "cell_type": "code",
   "execution_count": 23,
   "id": "1fbf7cbd",
   "metadata": {},
   "outputs": [
    {
     "data": {
      "text/plain": [
       "<matplotlib.legend.Legend at 0x121259400>"
      ]
     },
     "execution_count": 23,
     "metadata": {},
     "output_type": "execute_result"
    },
    {
     "data": {
      "image/png": "[encoded data removed]",
      "text/plain": [
       "<Figure size 432x288 with 1 Axes>"
      ]
     },
     "metadata": {
      "needs_background": "light"
     },
     "output_type": "display_data"
    }
   ],
   "source": [
    "epochs = [x for x in range(len(train_loss))]\n",
    "plt.plot(epochs, train_loss, label=\"train loss\")\n",
    "plt.plot(epochs, val_loss, label=\"val loss\")\n",
    "plt.legend()"
   ]
  }
 ],
 "metadata": {
  "kernelspec": {
   "display_name": "Python 3 (ipykernel)",
   "language": "python",
   "name": "python3"
  },
  "language_info": {
   "codemirror_mode": {
    "name": "ipython",
    "version": 3
   },
   "file_extension": ".py",
   "mimetype": "text/x-python",
   "name": "python",
   "nbconvert_exporter": "python",
   "pygments_lexer": "ipython3",
   "version": "3.7.2"
  }
 },
 "nbformat": 4,
 "nbformat_minor": 5
}
