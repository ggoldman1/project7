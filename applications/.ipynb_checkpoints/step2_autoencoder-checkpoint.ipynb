{
 "cells": [
  {
   "cell_type": "code",
   "execution_count": 12,
   "id": "c8d4a0c8",
   "metadata": {},
   "outputs": [],
   "source": [
    "from nn import NeuralNetwork\n",
    "import numpy as np\n",
    "from sklearn.datasets import load_digits"
   ]
  },
  {
   "cell_type": "markdown",
   "id": "f1c124f5",
   "metadata": {},
   "source": [
    "## Load in data, make training (80%) and validation (20%) sets"
   ]
  },
  {
   "cell_type": "code",
   "execution_count": 2,
   "id": "c76ca4c1",
   "metadata": {},
   "outputs": [],
   "source": [
    "data = load_digits()[\"data\"]\n",
    "n = data.shape[0]\n",
    "train_rows = int(0.8*n) # 80% train, 20% test"
   ]
  },
  {
   "cell_type": "code",
   "execution_count": 3,
   "id": "2069a879",
   "metadata": {},
   "outputs": [],
   "source": [
    "np.random.shuffle(data)\n",
    "X_train, X_val = data[0:train_rows, :], data[train_rows:n, :]"
   ]
  },
  {
   "cell_type": "markdown",
   "id": "e08ed718",
   "metadata": {},
   "source": [
    "## Train autoencoder, searching over grid of hyperparameters"
   ]
  },
  {
   "cell_type": "code",
   "execution_count": 5,
   "id": "839f4bf6",
   "metadata": {},
   "outputs": [],
   "source": [
    "epochs = [10, 20, 30, 40, 50]\n",
    "lrs = [1, 0.1, 0.01, 0.001]\n",
    "batch_sizes = [10, 20, 30, 40, 50]\n",
    "activations = [\"relu\", \"sigmoid\"]\n",
    "val_loss = np.zeros((len(epochs), len(lrs), len(batch_sizes), len(activations))) # validation loss as a function of the hyperparameters"
   ]
  },
  {
   "cell_type": "code",
   "execution_count": 15,
   "id": "c3aeb140",
   "metadata": {},
   "outputs": [],
   "source": [
    "for e, epoch in enumerate(epochs):\n",
    "    for l, lr in enumerate(lrs):\n",
    "        for b, batch_size in enumerate(batch_sizes):\n",
    "            for a, activation in enumerate(activations):\n",
    "                \n",
    "                net = NeuralNetwork([{'input_dim': 64, 'output_dim': 16, 'activation': activation},\n",
    "                                     {'input_dim': 16, 'output_dim': 64, 'activation': activation}],\n",
    "                                    lr, 42, batch_size, epoch, \"mse\")\n",
    "                # this is a reconstruction task, so the data and the target are the same \n",
    "                "
   ]
  },
  {
   "cell_type": "code",
   "execution_count": null,
   "id": "61c90167",
   "metadata": {},
   "outputs": [],
   "source": []
  }
 ],
 "metadata": {
  "kernelspec": {
   "display_name": "Python 3 (ipykernel)",
   "language": "python",
   "name": "python3"
  },
  "language_info": {
   "codemirror_mode": {
    "name": "ipython",
    "version": 3
   },
   "file_extension": ".py",
   "mimetype": "text/x-python",
   "name": "python",
   "nbconvert_exporter": "python",
   "pygments_lexer": "ipython3",
   "version": "3.7.2"
  }
 },
 "nbformat": 4,
 "nbformat_minor": 5
}
